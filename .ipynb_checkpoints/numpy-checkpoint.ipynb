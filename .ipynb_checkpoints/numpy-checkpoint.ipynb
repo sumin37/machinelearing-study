{
 "cells": [
  {
   "cell_type": "markdown",
   "id": "ac94bda5",
   "metadata": {},
   "source": [
    "# 넘파이 ndarray 개요"
   ]
  },
  {
   "cell_type": "code",
   "execution_count": 1,
   "id": "dec258a7",
   "metadata": {},
   "outputs": [],
   "source": [
    "import numpy as np"
   ]
  },
  {
   "cell_type": "code",
   "execution_count": 2,
   "id": "2fecc805",
   "metadata": {},
   "outputs": [
    {
     "name": "stdout",
     "output_type": "stream",
     "text": [
      "array1 type. <class 'numpy.ndarray'>\n",
      "array1 array 형태: (3,)\n",
      "array2 type. <class 'numpy.ndarray'>\n",
      "array2 array 형태: (2, 3)\n",
      "array3 type. <class 'numpy.ndarray'>\n",
      "array3 array 형태: (1, 3)\n"
     ]
    }
   ],
   "source": [
    "array1 = np.array([1,2,3])\n",
    "print('array1 type.', type(array1))\n",
    "print('array1 array 형태:', array1.shape)\n",
    "\n",
    "array2 = np.array([[1,2,3],[2,3,4]])\n",
    "print('array2 type.', type(array2))\n",
    "print('array2 array 형태:', array2.shape)\n",
    "\n",
    "array3 = np.array([[1,2,3]])\n",
    "print('array3 type.', type(array3))\n",
    "print('array3 array 형태:', array3.shape)"
   ]
  },
  {
   "cell_type": "markdown",
   "id": "95995398",
   "metadata": {},
   "source": [
    "#### array1 array 형태: (3,) : 1차원 array로 3개의 데이터 가지고 있음을 뜻함.\n",
    "#### array2 array 형태:(2,3) : 2차원 array로, 2개의 로우와 3개의 컬럼\n",
    "#### array3 array 형태:(1,3) : 1개 로우와 3개 칼럼으로 구성된 2차원 데이터 , array1과 다름 array1= 1차원"
   ]
  },
  {
   "cell_type": "code",
   "execution_count": 3,
   "id": "b1fd041c",
   "metadata": {},
   "outputs": [
    {
     "name": "stdout",
     "output_type": "stream",
     "text": [
      "array1: 1차원, array2:2차원, array3: 2차원\n"
     ]
    }
   ],
   "source": [
    "#dimension check.\n",
    "print('array1: {:0}차원, array2:{:1}차원, array3:{:2}차원'.format(array1.ndim, array2.ndim, array3.ndim))"
   ]
  },
  {
   "cell_type": "markdown",
   "id": "6364768f",
   "metadata": {},
   "source": [
    "# ndarray 데이터 타입 확인"
   ]
  },
  {
   "cell_type": "code",
   "execution_count": 4,
   "id": "6a25f730",
   "metadata": {},
   "outputs": [
    {
     "name": "stdout",
     "output_type": "stream",
     "text": [
      "<class 'list'>\n",
      "<class 'numpy.ndarray'>\n",
      "[1 2 3] int64\n"
     ]
    }
   ],
   "source": [
    "list1 = [1,2,3]\n",
    "print(type(list1))\n",
    "array1 = np.array(list1)\n",
    "print(type(array1))\n",
    "print(array1, array1.dtype)"
   ]
  },
  {
   "cell_type": "code",
   "execution_count": 5,
   "id": "4c083e76",
   "metadata": {},
   "outputs": [
    {
     "name": "stdout",
     "output_type": "stream",
     "text": [
      "['1' '2' 'test'] <U21\n",
      "[1. 2. 3.] float64\n"
     ]
    }
   ],
   "source": [
    "list2 = [1,2,'test']\n",
    "array2 = np.array(list2)\n",
    "print(array2, array2.dtype)\n",
    "\n",
    "list3 = [1,2,3.0]\n",
    "array3 = np.array(list3)\n",
    "print(array3, array3.dtype)"
   ]
  },
  {
   "cell_type": "markdown",
   "id": "211affbf",
   "metadata": {},
   "source": [
    "# arange, zeros, ones"
   ]
  },
  {
   "cell_type": "markdown",
   "id": "b725d877",
   "metadata": {},
   "source": [
    "#### ndarray를 연속값이나 0 또는 1로 초기화해 쉽게 생성해야 할 필요가 있는 경우가 발생. => arange, zeros, ones 이용"
   ]
  },
  {
   "cell_type": "code",
   "execution_count": 8,
   "id": "d04cfa26",
   "metadata": {},
   "outputs": [
    {
     "name": "stdout",
     "output_type": "stream",
     "text": [
      "[0 1 2 3 4 5 6 7 8 9]\n",
      "int64 (10,)\n"
     ]
    }
   ],
   "source": [
    "sequence_array = np.arange(10)\n",
    "print(sequence_array)\n",
    "print(sequence_array.dtype, sequence_array.shape)"
   ]
  },
  {
   "cell_type": "code",
   "execution_count": 9,
   "id": "a0c7c412",
   "metadata": {},
   "outputs": [
    {
     "name": "stdout",
     "output_type": "stream",
     "text": [
      "[[0 0]\n",
      " [0 0]\n",
      " [0 0]]\n",
      "int32 (3, 2)\n",
      "[[1. 1.]\n",
      " [1. 1.]\n",
      " [1. 1.]]\n",
      "float64 (3, 2)\n"
     ]
    }
   ],
   "source": [
    "zero_array = np.zeros((3,2), dtype='int32')\n",
    "print(zero_array)\n",
    "print(zero_array.dtype, zero_array.shape)\n",
    "\n",
    "one_array = np.ones((3,2))\n",
    "print(one_array)\n",
    "print(one_array.dtype, one_array.shape)"
   ]
  },
  {
   "cell_type": "code",
   "execution_count": 11,
   "id": "6b7f34cc",
   "metadata": {},
   "outputs": [
    {
     "name": "stdout",
     "output_type": "stream",
     "text": [
      "array1:\n",
      " [0 1 2 3 4 5 6 7 8 9]\n",
      "array2:\n",
      " [[0 1 2 3 4]\n",
      " [5 6 7 8 9]]\n",
      "array3:\n",
      " [[0 1]\n",
      " [2 3]\n",
      " [4 5]\n",
      " [6 7]\n",
      " [8 9]]\n"
     ]
    }
   ],
   "source": [
    "array1 = np.arange(10)\n",
    "print('array1:\\n', array1)\n",
    "\n",
    "array2 = array1.reshape(2,5)\n",
    "print('array2:\\n', array2)\n",
    "\n",
    "array3 = array1.reshape(5,2)\n",
    "print('array3:\\n', array3)"
   ]
  },
  {
   "cell_type": "code",
   "execution_count": 12,
   "id": "f7a4c65d",
   "metadata": {},
   "outputs": [
    {
     "name": "stdout",
     "output_type": "stream",
     "text": [
      "[0 1 2 3 4 5 6 7 8 9]\n",
      "array2 shape: (2, 5)\n",
      "array3 shaep: (5, 2)\n"
     ]
    }
   ],
   "source": [
    "array1 = np.arange(10)\n",
    "print(array1)\n",
    "\n",
    "array2 = array1.reshape(-1,5)\n",
    "print('array2 shape:', array2.shape)\n",
    "\n",
    "array3 = array1.reshape(5,-1)\n",
    "print('array3 shaep:', array3.shape)"
   ]
  },
  {
   "cell_type": "markdown",
   "id": "2655eaa4",
   "metadata": {},
   "source": [
    "# Indexing"
   ]
  },
  {
   "cell_type": "markdown",
   "id": "18cfeb31",
   "metadata": {},
   "source": [
    "## 단일 값 추출"
   ]
  },
  {
   "cell_type": "code",
   "execution_count": 13,
   "id": "9747521b",
   "metadata": {},
   "outputs": [
    {
     "name": "stdout",
     "output_type": "stream",
     "text": [
      "array1: [1 2 3 4 5 6 7 8 9]\n"
     ]
    }
   ],
   "source": [
    "array1 = np.arange(start=1, stop=10)\n",
    "print('array1:', array1)"
   ]
  },
  {
   "cell_type": "code",
   "execution_count": 14,
   "id": "ececdc48",
   "metadata": {},
   "outputs": [
    {
     "name": "stdout",
     "output_type": "stream",
     "text": [
      "value: 3\n",
      "<class 'numpy.int64'>\n"
     ]
    }
   ],
   "source": [
    "value = array1[2]\n",
    "print('value:', value)\n",
    "print(type(value))"
   ]
  },
  {
   "cell_type": "markdown",
   "id": "3fb1bb37",
   "metadata": {},
   "source": [
    "## slicing"
   ]
  },
  {
   "cell_type": "code",
   "execution_count": 15,
   "id": "86fa3ffa",
   "metadata": {},
   "outputs": [
    {
     "name": "stdout",
     "output_type": "stream",
     "text": [
      "[1 2 3]\n",
      "<class 'numpy.ndarray'>\n"
     ]
    }
   ],
   "source": [
    "array1 = np.arange(start=1, stop=10)\n",
    "array3 = array1[0:3]\n",
    "print(array3)\n",
    "print(type(array3))"
   ]
  },
  {
   "cell_type": "markdown",
   "id": "64519b9a",
   "metadata": {},
   "source": [
    "## Fancy Indexing"
   ]
  },
  {
   "cell_type": "code",
   "execution_count": 16,
   "id": "f3f38525",
   "metadata": {},
   "outputs": [
    {
     "name": "stdout",
     "output_type": "stream",
     "text": [
      "array2d[[0,1],2]=>  [3, 6]\n",
      "[[1 2 3]\n",
      " [4 5 6]\n",
      " [7 8 9]]\n",
      "[3 6]\n"
     ]
    }
   ],
   "source": [
    "array1d = np.arange(start=1, stop=10)\n",
    "array2d = array1d.reshape(3,3)\n",
    "\n",
    "array3 = array2d[[0,1],2]\n",
    "print('array2d[[0,1],2]=> ', array3.tolist())\n",
    "\n",
    "print(array2d)\n",
    "print(array3)"
   ]
  },
  {
   "cell_type": "code",
   "execution_count": 17,
   "id": "0e44dcbd",
   "metadata": {},
   "outputs": [
    {
     "name": "stdout",
     "output_type": "stream",
     "text": [
      "array2d[[0,1],0:2]=> [[1, 2], [4, 5]]\n",
      "array2d[[0,1]]=> [[1, 2, 3], [4, 5, 6]]\n"
     ]
    }
   ],
   "source": [
    "array4 = array2d[[0,1],0:2]\n",
    "print('array2d[[0,1],0:2]=>', array4.tolist())\n",
    "\n",
    "array5 = array2d[[0,1]]\n",
    "print('array2d[[0,1]]=>', array5.tolist())"
   ]
  },
  {
   "cell_type": "markdown",
   "id": "a97d3444",
   "metadata": {},
   "source": [
    "# Boolean indexing"
   ]
  },
  {
   "cell_type": "code",
   "execution_count": 20,
   "id": "a62acca1",
   "metadata": {},
   "outputs": [
    {
     "name": "stdout",
     "output_type": "stream",
     "text": [
      "array1d>5 불린 인덱싱 결과 값:  [6 7 8 9]\n"
     ]
    }
   ],
   "source": [
    "array1d = np.arange(start=1, stop=10)\n",
    "array3 = array1d[array1d>5]\n",
    "print('array1d>5 불린 인덱싱 결과 값: ', array3)"
   ]
  },
  {
   "cell_type": "code",
   "execution_count": 21,
   "id": "4197a15b",
   "metadata": {},
   "outputs": [
    {
     "data": {
      "text/plain": [
       "array([False, False, False, False, False,  True,  True,  True,  True])"
      ]
     },
     "execution_count": 21,
     "metadata": {},
     "output_type": "execute_result"
    }
   ],
   "source": [
    "array1d > 5"
   ]
  },
  {
   "cell_type": "markdown",
   "id": "5490f9cf",
   "metadata": {},
   "source": [
    "# 행렬의 정렬"
   ]
  },
  {
   "cell_type": "code",
   "execution_count": 22,
   "id": "fe46b716",
   "metadata": {},
   "outputs": [
    {
     "name": "stdout",
     "output_type": "stream",
     "text": [
      "원본 행렬:  [3 1 9 5]\n",
      "[1 3 5 9]\n"
     ]
    }
   ],
   "source": [
    "org_array = np.array([3,1,9,5])\n",
    "print('원본 행렬: ', org_array)\n",
    "\n",
    "sort_array1 = np.sort(org_array)\n",
    "print(sort_array1)"
   ]
  },
  {
   "cell_type": "code",
   "execution_count": 23,
   "id": "a4c86bca",
   "metadata": {},
   "outputs": [
    {
     "name": "stdout",
     "output_type": "stream",
     "text": [
      "[9 5 3 1]\n"
     ]
    }
   ],
   "source": [
    "sort_array1_desc = np.sort(org_array)[::-1] #[::-1] 이 내림차순 정렬\n",
    "print(sort_array1_desc)"
   ]
  },
  {
   "cell_type": "code",
   "execution_count": 24,
   "id": "e12d5a01",
   "metadata": {},
   "outputs": [
    {
     "name": "stdout",
     "output_type": "stream",
     "text": [
      "로우 방향으로 정렬:\n",
      " [[ 7  1]\n",
      " [ 8 12]]\n",
      "칼럼 방향으로 정렬:\n",
      " [[ 8 12]\n",
      " [ 1  7]]\n"
     ]
    }
   ],
   "source": [
    "array2d = np.array([[8,12], [7,1]])\n",
    "sort_array2d_axis0 = np.sort(array2d, axis=0)\n",
    "print('로우 방향으로 정렬:\\n', sort_array2d_axis0)\n",
    "\n",
    "sort_array2d_axis1 = np.sort(array2d, axis=1)\n",
    "print('칼럼 방향으로 정렬:\\n', sort_array2d_axis1)"
   ]
  },
  {
   "cell_type": "code",
   "execution_count": 25,
   "id": "c3df6ca6",
   "metadata": {},
   "outputs": [
    {
     "name": "stdout",
     "output_type": "stream",
     "text": [
      "<class 'numpy.ndarray'>\n"
     ]
    }
   ],
   "source": [
    "org_array = np.array([3,1,9,5])\n",
    "sort_indices = np.argsort(org_array)\n",
    "print(type(sort_indices))"
   ]
  },
  {
   "cell_type": "markdown",
   "id": "bdc7694d",
   "metadata": {},
   "source": [
    "# 선형대수 연산"
   ]
  },
  {
   "cell_type": "code",
   "execution_count": 26,
   "id": "bf11c3e8",
   "metadata": {},
   "outputs": [
    {
     "name": "stdout",
     "output_type": "stream",
     "text": [
      "[[ 58  64]\n",
      " [139 154]]\n"
     ]
    }
   ],
   "source": [
    "A = np.array([[1,2,3],[4,5,6]])\n",
    "B = np.array([[7,8],[9,10],[11,12]])\n",
    "dot_product = np.dot(A,B)\n",
    "print(dot_product)"
   ]
  },
  {
   "cell_type": "markdown",
   "id": "6473d5a5",
   "metadata": {},
   "source": [
    "## 전치 행렬"
   ]
  },
  {
   "cell_type": "code",
   "execution_count": 27,
   "id": "3d409e34",
   "metadata": {},
   "outputs": [
    {
     "name": "stdout",
     "output_type": "stream",
     "text": [
      "[[1 3]\n",
      " [2 4]]\n"
     ]
    }
   ],
   "source": [
    "A = np.array([[1,2],[3,4]])\n",
    "transepose_mat = np.transpose(A)\n",
    "print(transepose_mat)"
   ]
  },
  {
   "cell_type": "code",
   "execution_count": null,
   "id": "bab935ee",
   "metadata": {},
   "outputs": [],
   "source": []
  }
 ],
 "metadata": {
  "jupytext": {
   "formats": "ipynb,auto:light"
  },
  "kernelspec": {
   "display_name": "Python 3 (ipykernel)",
   "language": "python",
   "name": "python3"
  },
  "language_info": {
   "codemirror_mode": {
    "name": "ipython",
    "version": 3
   },
   "file_extension": ".py",
   "mimetype": "text/x-python",
   "name": "python",
   "nbconvert_exporter": "python",
   "pygments_lexer": "ipython3",
   "version": "3.9.12"
  }
 },
 "nbformat": 4,
 "nbformat_minor": 5
}
